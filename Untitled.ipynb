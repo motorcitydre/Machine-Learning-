{
 "cells": [
  {
   "cell_type": "code",
   "execution_count": null,
   "metadata": {},
   "outputs": [],
   "source": [
    "import json\n",
    "import matplotlib.pyplot as plt \n",
    "import numpy\n",
    "import pandas as pd\n",
    "file_name = './class activities/final project/books_small.json'\n",
    "with open(file_name) as f:\n",
    "    for line in f:\n",
    "        print(reviewline)\n",
    "        break\n",
    "  #During this Step I import all the libararies I will be using to complete project       \n"
   ]
  },
  {
   "cell_type": "code",
   "execution_count": null,
   "metadata": {},
   "outputs": [],
   "source": [
    "# The Class listed below will give you the name of the book, the score on a 5 star system. Plue it will telll you if the review is \n",
    "#Negative, Neutral or Positive."
   ]
  },
  {
   "cell_type": "code",
   "execution_count": null,
   "metadata": {},
   "outputs": [],
   "source": [
    "Class Review:\n",
    "    def __init__(self,text,score)\n",
    "        SELF.TEXT = TEXT\n",
    "        SELF.SCORE = SCORE\n",
    "        SELF.SENTIMENTS"
   ]
  },
  {
   "cell_type": "code",
   "execution_count": null,
   "metadata": {},
   "outputs": [],
   "source": [
    "Class review\n",
    "    def __init__(self, text, score)\n",
    "        self.text = text\n",
    "        self.score = score\n",
    "        \n",
    "    def get_sentiment(self) = self.get_sentiment\n",
    "        if self.score <= 2:\n",
    "            return \"Negative\"\n",
    "        elif self.score == 3:\n",
    "            return \"Neutral\"\n",
    "        else: #Score of 4 or 5\n",
    "            return \"Positive\""
   ]
  },
  {
   "cell_type": "markdown",
   "metadata": {},
   "source": [
    "#### Data Prep\n",
    "sklearn.feature_extraction.text import\n"
   ]
  },
  {
   "cell_type": "code",
   "execution_count": null,
   "metadata": {},
   "outputs": [],
   "source": [
    "from sklearn.feature_extraction.text import\n",
    "vectorizer = CountVectorizer()\n",
    ">>> X = vectorizer.fit_transform(corpus)\n",
    "#This section will fit my model and transform it."
   ]
  },
  {
   "cell_type": "code",
   "execution_count": null,
   "metadata": {},
   "outputs": [],
   "source": [
    "training, test = train_test_split(reviews, test_size=0.33, random_state=42)\n",
    "#We were taugh to have a train environment of 20 %, but in this project, \n",
    "#I chose to extend it to 33% due to the quantity of positive reviews."
   ]
  },
  {
   "cell_type": "code",
   "execution_count": null,
   "metadata": {},
   "outputs": [],
   "source": [
    "train_x = [x.text for x in training]\n",
    "train_y = [x.sentiment for x in training]\n",
    "\n",
    "test_x = [x.text for x in test]\n",
    "test_y = [x.sentiment for x in test]"
   ]
  },
  {
   "cell_type": "code",
   "execution_count": null,
   "metadata": {},
   "outputs": [],
   "source": [
    "# I tested it in two different models "
   ]
  },
  {
   "cell_type": "code",
   "execution_count": null,
   "metadata": {},
   "outputs": [],
   "source": [
    "#Naive Bayes\n",
    "from sklearn.naive_bayes import GaussianNB\n",
    "\n",
    "clf_gnb = DecisionTreeClassifier()\n",
    "clf_gnb.fit(train_x_vector, train_y)\n",
    "\n",
    "clf_gnb.predict(test_x_vectors[0])\n"
   ]
  },
  {
   "cell_type": "code",
   "execution_count": null,
   "metadata": {},
   "outputs": [],
   "source": [
    "#Logistic Regression\n",
    "from sklearn.linear_model import LogisticRegression\n",
    "clf_log = LogisticRegression\n",
    "clf_log.fit(train_x_vector, train_y)\n",
    "\n",
    "clf_log.predict(test_x_vector[0])"
   ]
  },
  {
   "cell_type": "code",
   "execution_count": null,
   "metadata": {},
   "outputs": [],
   "source": [
    "#Bag of Words\n",
    "\n",
    "from sklearn.feature_extraction.text import CountVectorizer, TfidVectorizer\n",
    "\n",
    "vectorizer = CounterVectorizer()\n",
    "train_x_vector = vectorizer.fit_transform(train_x)\n",
    "\n",
    "test_x_vector = vectorizer.transform(test_x)\n",
    "\n",
    "print(train_x[0])\n",
    "print(train_x_vector[0].toarray())\n",
    "\n",
    "#The models were scoring 80 % on predicting positve outputs.\n",
    "#Only 1% on neutral and negative"
   ]
  },
  {
   "cell_type": "code",
   "execution_count": null,
   "metadata": {},
   "outputs": [],
   "source": [
    "#Bar Graph\n",
    "#This was setup show how many books would show up in the 1-5 star category\n",
    "\n",
    "labels = [positive, neurtral, negative]\n",
    "values = [1,2,3,4,5]\n",
    "\n",
    "plt.bar(labels, value)\n",
    "\n",
    "plt.figure(figsize=(6,4))\n",
    "plt.show"
   ]
  }
 ],
 "metadata": {
  "kernelspec": {
   "display_name": "Python 3",
   "language": "python",
   "name": "python3"
  },
  "language_info": {
   "codemirror_mode": {
    "name": "ipython",
    "version": 3
   },
   "file_extension": ".py",
   "mimetype": "text/x-python",
   "name": "python",
   "nbconvert_exporter": "python",
   "pygments_lexer": "ipython3",
   "version": "3.6.9"
  }
 },
 "nbformat": 4,
 "nbformat_minor": 2
}
